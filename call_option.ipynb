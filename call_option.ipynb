{
 "cells": [
  {
   "cell_type": "markdown",
   "metadata": {},
   "source": [
    "# Library Importation "
   ]
  },
  {
   "cell_type": "code",
   "execution_count": 33,
   "metadata": {},
   "outputs": [],
   "source": [
    "import numpy as np\n",
    "from scipy.stats import norm\n",
    "import matplotlib.pyplot as plt\n",
    "import yfinance as yf\n",
    "import pandas as pd\n",
    "from datetime import datetime\n",
    "import pytz\n",
    "import tkinter as tk\n",
    "from tkinter import messagebox\n"
   ]
  },
  {
   "cell_type": "markdown",
   "metadata": {},
   "source": [
    "# Black-Scholes Model"
   ]
  },
  {
   "cell_type": "code",
   "execution_count": 34,
   "metadata": {},
   "outputs": [],
   "source": [
    "def black_scholes_call(S, K, T, r, sigma):\n",
    "    d1 = (np.log(S / K) + (r + 0.5 * sigma ** 2) * T) / (sigma * np.sqrt(T))\n",
    "    d2 = d1 - sigma * np.sqrt(T)\n",
    "    return S * norm.cdf(d1) - K * np.exp(-r*T) * norm.cdf(d2)\n",
    "\n",
    "def vega(S, K, T, r, sigma):\n",
    "    d1 = (np.log(S / K) + (r + 0.5 * sigma ** 2) * T) / (sigma* np.sqrt(T))\n",
    "    return S * norm.pdf(d1) * np.sqrt(T)\n",
    "\n",
    " "
   ]
  },
  {
   "cell_type": "markdown",
   "metadata": {},
   "source": [
    "# Newton-Raphson Method"
   ]
  },
  {
   "cell_type": "code",
   "execution_count": 35,
   "metadata": {},
   "outputs": [],
   "source": [
    "def implied_volatility_newton(S, K, T, r, C, tol=1e-5, max_iter=100):\n",
    "    sigma = 0.2 # Inital guess for volatility\n",
    "    for _ in range(max_iter):\n",
    "        price = black_scholes_call(S, K, T, r, sigma)\n",
    "        vega_val = vega(S, K, T, r, sigma)\n",
    "        diff = C - price\n",
    "        if abs(diff) < tol:\n",
    "            return sigma\n",
    "        sigma = sigma + diff / vega_val\n",
    "    return sigma\n",
    "                          \n",
    "    "
   ]
  },
  {
   "cell_type": "markdown",
   "metadata": {},
   "source": [
    "# Bisection Method"
   ]
  },
  {
   "cell_type": "code",
   "execution_count": 36,
   "metadata": {},
   "outputs": [
    {
     "name": "stdout",
     "output_type": "stream",
     "text": [
      "Implied Volatility (Newton-Raphson): 0.187971649526008\n",
      "Implied Volatility (Bisection): 0.25075\n"
     ]
    }
   ],
   "source": [
    "def implied_volatility_bisection(S, K, T, r, C, tol=1e-5):\n",
    "    low, high = 0.001, 1.0 # Assuming volatility within this range\n",
    "    while high - low > tol:\n",
    "        mid = (low + high) / 2\n",
    "        price = black_scholes_call(S, K, T, r, mid)\n",
    "        if price > C:\n",
    "            high = mid\n",
    "        else:\n",
    "            low = mid\n",
    "        return (low + high) / 2\n",
    "    \n",
    "\n",
    "\n",
    "# Example usage\n",
    "S = 100  # Current stock price\n",
    "K = 100  # Strike price\n",
    "T = 1    # Time to expiration in years\n",
    "r = 0.05 # Risk-free rate\n",
    "C = 10   # Market price of the call option\n",
    "\n",
    "print(\"Implied Volatility (Newton-Raphson):\", implied_volatility_newton(S, K, T, r, C))\n",
    "print(\"Implied Volatility (Bisection):\", implied_volatility_bisection(S, K, T, r, C))\n",
    " "
   ]
  },
  {
   "cell_type": "code",
   "execution_count": 37,
   "metadata": {},
   "outputs": [],
   "source": [
    "\n",
    "# Assuming the functions above are defined here or imported\n",
    "\n",
    "def calculate_iv():\n",
    "    try:\n",
    "        S = float(entry_S.get())\n",
    "        K = float(entry_K.get())\n",
    "        T = float(entry_T.get())\n",
    "        r = float(entry_r.get())\n",
    "        C = float(entry_C.get())\n",
    "        \n",
    "        iv_nr = implied_volatility_newton(S, K, T, r, C)\n",
    "        iv_bis = implied_volatility_bisection(S, K, T, r, C)\n",
    "        \n",
    "        result.set(f\"Newton-Raphson: {iv_nr:.4f}, Bisection: {iv_bis:.4f}\")\n",
    "    except ValueError:\n",
    "        messagebox.showerror(\"Input Error\", \"Please enter valid numbers for all fields.\")\n",
    "\n",
    "# GUI setup\n",
    "root = tk.Tk()\n",
    "root.title(\"Implied Volatility Calculator\")\n",
    "\n",
    "tk.Label(root, text=\"Stock Price (S)\").grid(row=0)\n",
    "entry_S = tk.Entry(root)\n",
    "entry_S.grid(row=0, column=1)\n",
    "\n",
    "tk.Label(root, text=\"Strike Price (K)\").grid(row=1)\n",
    "entry_K = tk.Entry(root)\n",
    "entry_K.grid(row=1, column=1)\n",
    "\n",
    "tk.Label(root, text=\"Time to Expiry (T)\").grid(row=2)\n",
    "entry_T = tk.Entry(root)\n",
    "entry_T.grid(row=2, column=1)\n",
    "\n",
    "tk.Label(root, text=\"Risk-Free Rate (r)\").grid(row=3)\n",
    "entry_r = tk.Entry(root)\n",
    "entry_r.grid(row=3, column=1)\n",
    "\n",
    "tk.Label(root, text=\"Option Price (C)\").grid(row=4)\n",
    "entry_C = tk.Entry(root)\n",
    "entry_C.grid(row=4, column=1)\n",
    "\n",
    "tk.Button(root, text=\"Calculate IV\", command=calculate_iv).grid(row=5, column=0, columnspan=2)\n",
    "result = tk.StringVar()\n",
    "tk.Label(root, textvariable=result).grid(row=6, column=0, columnspan=2)\n",
    "\n",
    "root.mainloop()"
   ]
  }
 ],
 "metadata": {
  "kernelspec": {
   "display_name": "call_option",
   "language": "python",
   "name": "python3"
  },
  "language_info": {
   "codemirror_mode": {
    "name": "ipython",
    "version": 3
   },
   "file_extension": ".py",
   "mimetype": "text/x-python",
   "name": "python",
   "nbconvert_exporter": "python",
   "pygments_lexer": "ipython3",
   "version": "3.11.9"
  }
 },
 "nbformat": 4,
 "nbformat_minor": 2
}
