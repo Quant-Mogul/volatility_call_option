{
 "cells": [
  {
   "cell_type": "markdown",
   "metadata": {},
   "source": [
    "# Library Importation "
   ]
  },
  {
   "cell_type": "code",
   "execution_count": 33,
   "metadata": {},
   "outputs": [],
   "source": [
    "import numpy as np\n",
    "from scipy.stats import norm\n",
    "import matplotlib.pyplot as plt\n",
    "import yfinance as yf\n",
    "import pandas as pd\n",
    "from datetime import datetime\n",
    "import pytz\n"
   ]
  },
  {
   "cell_type": "markdown",
   "metadata": {},
   "source": [
    "# Fetching Options Data on yfinance"
   ]
  },
  {
   "cell_type": "code",
   "execution_count": 34,
   "metadata": {},
   "outputs": [
    {
     "data": {
      "text/html": [
       "<div>\n",
       "<style scoped>\n",
       "    .dataframe tbody tr th:only-of-type {\n",
       "        vertical-align: middle;\n",
       "    }\n",
       "\n",
       "    .dataframe tbody tr th {\n",
       "        vertical-align: top;\n",
       "    }\n",
       "\n",
       "    .dataframe thead th {\n",
       "        text-align: right;\n",
       "    }\n",
       "</style>\n",
       "<table border=\"1\" class=\"dataframe\">\n",
       "  <thead>\n",
       "    <tr style=\"text-align: right;\">\n",
       "      <th></th>\n",
       "      <th>strike</th>\n",
       "      <th>lastPrice</th>\n",
       "      <th>lastTradeDate</th>\n",
       "      <th>impliedVolatility</th>\n",
       "    </tr>\n",
       "  </thead>\n",
       "  <tbody>\n",
       "    <tr>\n",
       "      <th>0</th>\n",
       "      <td>100.0</td>\n",
       "      <td>134.60</td>\n",
       "      <td>2025-01-14 18:59:54+00:00</td>\n",
       "      <td>0.00001</td>\n",
       "    </tr>\n",
       "    <tr>\n",
       "      <th>1</th>\n",
       "      <td>115.0</td>\n",
       "      <td>107.09</td>\n",
       "      <td>2025-01-22 17:02:48+00:00</td>\n",
       "      <td>0.00001</td>\n",
       "    </tr>\n",
       "    <tr>\n",
       "      <th>2</th>\n",
       "      <td>120.0</td>\n",
       "      <td>134.55</td>\n",
       "      <td>2024-12-27 16:24:46+00:00</td>\n",
       "      <td>0.00001</td>\n",
       "    </tr>\n",
       "    <tr>\n",
       "      <th>3</th>\n",
       "      <td>125.0</td>\n",
       "      <td>110.14</td>\n",
       "      <td>2025-01-14 18:59:54+00:00</td>\n",
       "      <td>0.00001</td>\n",
       "    </tr>\n",
       "    <tr>\n",
       "      <th>4</th>\n",
       "      <td>130.0</td>\n",
       "      <td>124.00</td>\n",
       "      <td>2024-12-27 16:52:13+00:00</td>\n",
       "      <td>0.00001</td>\n",
       "    </tr>\n",
       "    <tr>\n",
       "      <th>5</th>\n",
       "      <td>135.0</td>\n",
       "      <td>88.50</td>\n",
       "      <td>2025-01-22 20:24:15+00:00</td>\n",
       "      <td>0.00001</td>\n",
       "    </tr>\n",
       "    <tr>\n",
       "      <th>6</th>\n",
       "      <td>140.0</td>\n",
       "      <td>82.15</td>\n",
       "      <td>2025-01-22 18:30:15+00:00</td>\n",
       "      <td>0.00001</td>\n",
       "    </tr>\n",
       "    <tr>\n",
       "      <th>7</th>\n",
       "      <td>145.0</td>\n",
       "      <td>83.94</td>\n",
       "      <td>2025-01-16 20:43:16+00:00</td>\n",
       "      <td>0.00001</td>\n",
       "    </tr>\n",
       "    <tr>\n",
       "      <th>8</th>\n",
       "      <td>150.0</td>\n",
       "      <td>78.91</td>\n",
       "      <td>2025-01-17 19:19:35+00:00</td>\n",
       "      <td>0.00001</td>\n",
       "    </tr>\n",
       "    <tr>\n",
       "      <th>9</th>\n",
       "      <td>155.0</td>\n",
       "      <td>67.55</td>\n",
       "      <td>2025-01-22 17:22:29+00:00</td>\n",
       "      <td>0.00001</td>\n",
       "    </tr>\n",
       "  </tbody>\n",
       "</table>\n",
       "</div>"
      ],
      "text/plain": [
       "   strike  lastPrice             lastTradeDate  impliedVolatility\n",
       "0   100.0     134.60 2025-01-14 18:59:54+00:00            0.00001\n",
       "1   115.0     107.09 2025-01-22 17:02:48+00:00            0.00001\n",
       "2   120.0     134.55 2024-12-27 16:24:46+00:00            0.00001\n",
       "3   125.0     110.14 2025-01-14 18:59:54+00:00            0.00001\n",
       "4   130.0     124.00 2024-12-27 16:52:13+00:00            0.00001\n",
       "5   135.0      88.50 2025-01-22 20:24:15+00:00            0.00001\n",
       "6   140.0      82.15 2025-01-22 18:30:15+00:00            0.00001\n",
       "7   145.0      83.94 2025-01-16 20:43:16+00:00            0.00001\n",
       "8   150.0      78.91 2025-01-17 19:19:35+00:00            0.00001\n",
       "9   155.0      67.55 2025-01-22 17:22:29+00:00            0.00001"
      ]
     },
     "execution_count": 34,
     "metadata": {},
     "output_type": "execute_result"
    }
   ],
   "source": [
    "# Assuming you want to fetch options for Apple (AAPL)\n",
    "ticker = yf.Ticker('AAPL')\n",
    "\n",
    "# Get all available expiration dates\n",
    "expirations = ticker.options\n",
    "\n",
    "# Let's choose the first expiration date as an example\n",
    "expiration = expirations[0]\n",
    "\n",
    "# Download the options data for this expiration\n",
    "options = ticker.option_chain(expiration)\n",
    "\n",
    "# 'options' is a named tuple with 'calls' and 'puts'\n",
    "call_options = options.calls\n",
    "\n",
    "#call_options\n",
    "\n",
    "# Displaying the first few call options\n",
    "#print(call_options[['strike', 'lastPrice', 'lastTradeDate', 'impliedVolatility']].head())\n",
    "\n",
    "df = pd.DataFrame(call_options[['strike', 'lastPrice', 'lastTradeDate', 'impliedVolatility']].head(10))\n",
    "df"
   ]
  },
  {
   "cell_type": "code",
   "execution_count": 35,
   "metadata": {},
   "outputs": [
    {
     "name": "stdout",
     "output_type": "stream",
     "text": [
      "   strike  lastPrice  impliedVolatility  daysToExpiration  timeToExpiration\n",
      "0   100.0     134.60            0.00001                -9         -0.024658\n",
      "1   115.0     107.09            0.00001                -1         -0.002740\n",
      "2   120.0     134.55            0.00001               -27         -0.073973\n",
      "3   125.0     110.14            0.00001                -9         -0.024658\n",
      "4   130.0     124.00            0.00001               -27         -0.073973\n",
      "5   135.0      88.50            0.00001                -1         -0.002740\n",
      "6   140.0      82.15            0.00001                -1         -0.002740\n",
      "7   145.0      83.94            0.00001                -7         -0.019178\n",
      "8   150.0      78.91            0.00001                -6         -0.016438\n",
      "9   155.0      67.55            0.00001                -1         -0.002740\n"
     ]
    }
   ],
   "source": [
    "# Convert 'lastTradeDate' to datetime objects, ensuring they're in UTC\n",
    "if df['lastTradeDate'].dt.tz is None:\n",
    "    df['lastTradeDate'] = pd.to_datetime(df['lastTradeDate']).dt.tz_localize('UTC')\n",
    "else:\n",
    "    df['lastTradeDate'] = df['lastTradeDate'].dt.tz_convert('UTC')  # Convert if already tz-aware\n",
    "\n",
    "# Current date for calculation in UTC\n",
    "current_date = datetime.now(pytz.utc)\n",
    "\n",
    "# Calculate days to expiration\n",
    "df['daysToExpiration'] = (df['lastTradeDate'] - current_date).dt.days\n",
    "\n",
    "# Convert days to years for Black-Scholes (assuming 365 days in a year)\n",
    "df['timeToExpiration'] = df['daysToExpiration'] / 365.0\n",
    "\n",
    "# Drop the original 'lastTradeDate' if no longer needed\n",
    "df = df.drop('lastTradeDate', axis=1)\n",
    "\n",
    "# Display cleaned DataFrame\n",
    "print(df)"
   ]
  },
  {
   "cell_type": "markdown",
   "metadata": {},
   "source": [
    "# Black-Scholes Model"
   ]
  },
  {
   "cell_type": "code",
   "execution_count": 36,
   "metadata": {},
   "outputs": [],
   "source": [
    "def black_scholes_call(S, K, T, r, sigma):\n",
    "    d1 = (np.log(S / K) + (r + 0.5 * sigma ** 2) * T) / (sigma * np.sqrt(T))\n",
    "    d2 = d1 - sigma * np.sqrt(T)\n",
    "    return S * norm.cdf(d1) - K * np.exp(-r*T) * norm.cdf(d2)\n",
    "\n",
    "def vega(S, K, T, r, sigma):\n",
    "    d1 = (np.log(S / K) + (r + 0.5 * sigma ** 2) * T) / (sigma* np.sqrt(T))\n",
    "    return S * norm.pdf(d1) * np.sqrt(T)"
   ]
  },
  {
   "cell_type": "markdown",
   "metadata": {},
   "source": [
    "# Newton-Raphson Method"
   ]
  },
  {
   "cell_type": "code",
   "execution_count": 37,
   "metadata": {},
   "outputs": [],
   "source": [
    "def implied_volatility_newton(S, K, T, r, C, tol=1e-5, max_iter=100):\n",
    "    sigma = 0.2 # Inital guess for volatility\n",
    "    for _ in range(max_iter):\n",
    "        price = black_scholes_call(S, K, T, r, sigma)\n",
    "        vega_val = vega(S, K, T, r, sigma)\n",
    "        diff = C - price\n",
    "        if abs(diff) < tol:\n",
    "            return sigma\n",
    "        sigma = sigma + diff / vega_val\n",
    "    return sigma\n",
    "                          \n",
    "    "
   ]
  },
  {
   "cell_type": "markdown",
   "metadata": {},
   "source": [
    "# Bisection Method"
   ]
  },
  {
   "cell_type": "code",
   "execution_count": 38,
   "metadata": {},
   "outputs": [
    {
     "name": "stdout",
     "output_type": "stream",
     "text": [
      "Implied Volatility (Newton-Raphson): 0.4523401602501279\n",
      "Implied Volatility (Bisection): 0.25075\n"
     ]
    }
   ],
   "source": [
    "def implied_volatility_bisection(S, K, T, r, C, tol=1e-5):\n",
    "    low, high = 0.001, 1.0 # Assuming volatility within this range\n",
    "    while high - low > tol:\n",
    "        mid = (low + high) / 2\n",
    "        price = black_scholes_call(S, K, T, r, mid)\n",
    "        if price > C:\n",
    "            high = mid\n",
    "        else:\n",
    "            low = mid\n",
    "        return (low + high) / 2\n",
    "    \n",
    "S = 100    #Current stock price\n",
    "K = 100    #Strike price\n",
    "T = 1      # Time to expiration in years\n",
    "r = 0.05   # Risk-Free rate\n",
    "C = 20     # Market price of the call option\n",
    "\n",
    "print(\"Implied Volatility (Newton-Raphson):\", implied_volatility_newton(S, K, T, r, C))\n",
    "print(\"Implied Volatility (Bisection):\", implied_volatility_bisection(S, K, T, r, C))"
   ]
  },
  {
   "cell_type": "code",
   "execution_count": null,
   "metadata": {},
   "outputs": [],
   "source": []
  }
 ],
 "metadata": {
  "kernelspec": {
   "display_name": "call_option",
   "language": "python",
   "name": "python3"
  },
  "language_info": {
   "codemirror_mode": {
    "name": "ipython",
    "version": 3
   },
   "file_extension": ".py",
   "mimetype": "text/x-python",
   "name": "python",
   "nbconvert_exporter": "python",
   "pygments_lexer": "ipython3",
   "version": "3.11.9"
  }
 },
 "nbformat": 4,
 "nbformat_minor": 2
}
